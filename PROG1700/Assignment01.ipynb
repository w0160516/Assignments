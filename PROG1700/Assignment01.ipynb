{
 "cells": [
  {
   "cell_type": "markdown",
   "source": [
    "# Assignment 1\n",
    "\n",
    "## Total: 35pts"
   ],
   "metadata": {
    "colab_type": "text",
    "id": "-ycSUdCI6y9U"
   }
  },
  {
   "cell_type": "markdown",
   "source": [
    "### Part A - Write Code! (5pts)\n",
    "\n",
    "For each item below, determine the appropriate JavaScript code to generate the desired output.\n",
    "\n",
    "---"
   ],
   "metadata": {
    "colab_type": "text",
    "id": "Wu4GRcHW6y9Z"
   }
  },
  {
   "cell_type": "markdown",
   "source": [
    "1) Display your name and student ID to the console."
   ],
   "metadata": {
    "colab_type": "text",
    "id": "nTt4W7Ld6y9b"
   }
  },
  {
   "cell_type": "code",
   "execution_count": 2,
   "source": [
    "var firstName = \"Becky\"\r\n",
    "var lastName = \"Gray\"\r\n",
    "var studentID = \"w01605168\"\r\n",
    "console.log(\"Name: %s %s, ID: %s\", firstName, lastName, studentID)"
   ],
   "outputs": [
    {
     "output_type": "stream",
     "name": "stdout",
     "text": [
      "Name: Becky Gray, ID: w0160516\n"
     ]
    }
   ],
   "metadata": {
    "colab": {},
    "colab_type": "code",
    "hide_input": false,
    "id": "WzPxfS7A6y9e"
   }
  },
  {
   "cell_type": "markdown",
   "source": [
    "---"
   ],
   "metadata": {
    "colab_type": "text",
    "id": "5fUTfuYX6y9p"
   }
  },
  {
   "cell_type": "markdown",
   "source": [
    "2) Create a variable, called __num__, to hold the integer value, __10__. Then, display the contents of the variable."
   ],
   "metadata": {
    "colab_type": "text",
    "id": "f2XqD7Ya6y9q"
   }
  },
  {
   "cell_type": "code",
   "execution_count": 3,
   "source": [
    "var num = 10\r\n",
    "console.log(num)"
   ],
   "outputs": [
    {
     "output_type": "stream",
     "name": "stdout",
     "text": [
      "10\n"
     ]
    }
   ],
   "metadata": {
    "colab": {},
    "colab_type": "code",
    "id": "oBwsAgVF6y9s"
   }
  },
  {
   "cell_type": "markdown",
   "source": [
    "---"
   ],
   "metadata": {
    "colab_type": "text",
    "id": "abgJYaMv6y91"
   }
  },
  {
   "cell_type": "markdown",
   "source": [
    "3) Create a variable to hold the name of your favourite TV character. Then, use string concatenation to display the message \"My favourite TV star is: \" with the variable contents appended. (e.g. \"My favourite TV star is: Homer Simpson\")"
   ],
   "metadata": {
    "colab_type": "text",
    "id": "QgmpkjOE6y93"
   }
  },
  {
   "cell_type": "code",
   "execution_count": 4,
   "source": [
    "var charName = \"Arya Stark\"\n",
    "console.log(\"My favourite TV Character is\",charName)"
   ],
   "outputs": [
    {
     "output_type": "stream",
     "name": "stdout",
     "text": [
      "My favourite TV Character is Arya Stark\n"
     ]
    }
   ],
   "metadata": {
    "colab": {},
    "colab_type": "code",
    "id": "36FjBTTw6y95"
   }
  },
  {
   "cell_type": "markdown",
   "source": [
    "---"
   ],
   "metadata": {
    "colab_type": "text",
    "id": "Z1ZTYMrg6y-A"
   }
  },
  {
   "cell_type": "markdown",
   "source": [
    "4) Display Santa Clause's catch phrase (Ho Ho Ho) using the string repeat method."
   ],
   "metadata": {
    "colab_type": "text",
    "id": "5wf6aWFu6y-C"
   }
  },
  {
   "cell_type": "code",
   "execution_count": 6,
   "source": [
    "\"Ho \".repeat(3) "
   ],
   "outputs": [
    {
     "output_type": "execute_result",
     "data": {
      "text/plain": [
       "'Ho Ho Ho '"
      ]
     },
     "metadata": {},
     "execution_count": 6
    }
   ],
   "metadata": {
    "colab": {},
    "colab_type": "code",
    "id": "Zb2fu3Vi6y-D"
   }
  },
  {
   "cell_type": "markdown",
   "source": [
    "---"
   ],
   "metadata": {
    "colab_type": "text",
    "id": "Hzr0pZwz6y-K"
   }
  },
  {
   "cell_type": "markdown",
   "source": [
    "5) Create the JavaScript statement to calculate the following mathematical expression: $2 + 3 \\times 4 - 6 \\div 3 $"
   ],
   "metadata": {
    "colab_type": "text",
    "id": "A835cS6V6y-M"
   }
  },
  {
   "cell_type": "code",
   "execution_count": 7,
   "source": [
    "2 + 3 * 4 - 6 / 3"
   ],
   "outputs": [
    {
     "output_type": "execute_result",
     "data": {
      "text/plain": [
       "12"
      ]
     },
     "metadata": {},
     "execution_count": 7
    }
   ],
   "metadata": {
    "colab": {},
    "colab_type": "code",
    "id": "0WBkOlyU6y-N"
   }
  },
  {
   "cell_type": "markdown",
   "source": [
    "---"
   ],
   "metadata": {
    "colab_type": "text",
    "id": "E-mgGgbG6y-U"
   }
  },
  {
   "cell_type": "markdown",
   "source": [
    "### Part B - Fix the Error! (15pts)\n",
    "\n",
    "Listed below are several snippets of code that contain small errors. For each of the questions, __correct the error__ so the code will generate the desired output.\n",
    "\n",
    "---"
   ],
   "metadata": {
    "colab_type": "text",
    "id": "clFbvpgn6y-V"
   }
  },
  {
   "cell_type": "markdown",
   "source": [
    "6) Display a string of text on the screen."
   ],
   "metadata": {
    "colab_type": "text",
    "id": "MvbrIaDp6y-X"
   }
  },
  {
   "cell_type": "code",
   "execution_count": 3,
   "source": [
    "console.log (\"This is a story about a man named Jed.\")"
   ],
   "outputs": [
    {
     "output_type": "stream",
     "name": "stdout",
     "text": [
      "This is a story about a man named Jed.\n"
     ]
    }
   ],
   "metadata": {
    "colab": {},
    "colab_type": "code",
    "id": "tV81pJmY6y-Z"
   }
  },
  {
   "cell_type": "markdown",
   "source": [
    "---"
   ],
   "metadata": {
    "colab_type": "text",
    "id": "C25pX2RK6y-g"
   }
  },
  {
   "cell_type": "markdown",
   "source": [
    "7) Display a string and a decimal number. (Note: Do this one without using string concatentation.)"
   ],
   "metadata": {
    "colab_type": "text",
    "id": "ktSlWc6N6y-h"
   }
  },
  {
   "cell_type": "code",
   "execution_count": 4,
   "source": [
    "console.log(\"PI = \", Math.PI)"
   ],
   "outputs": [
    {
     "output_type": "stream",
     "name": "stdout",
     "text": [
      "PI =  3.141592653589793\n"
     ]
    }
   ],
   "metadata": {
    "colab": {},
    "colab_type": "code",
    "id": "hLpjaTaf6y-i"
   }
  },
  {
   "cell_type": "markdown",
   "source": [
    "---"
   ],
   "metadata": {
    "colab_type": "text",
    "id": "9QoBU_y66y-n"
   }
  },
  {
   "cell_type": "markdown",
   "source": [
    "8) Fix the calculation."
   ],
   "metadata": {
    "colab_type": "text",
    "id": "JqoR_7nD6y-p"
   }
  },
  {
   "cell_type": "code",
   "execution_count": 3,
   "source": [
    "console.log (1 + 2)"
   ],
   "outputs": [
    {
     "output_type": "stream",
     "name": "stdout",
     "text": [
      "3\n"
     ]
    }
   ],
   "metadata": {
    "colab": {},
    "colab_type": "code",
    "id": "XgzRrjS76y-q"
   }
  },
  {
   "cell_type": "markdown",
   "source": [
    "---"
   ],
   "metadata": {
    "colab_type": "text",
    "id": "DFA2VS036y-y"
   }
  },
  {
   "cell_type": "markdown",
   "source": [
    "9) Fix the calculation."
   ],
   "metadata": {
    "colab_type": "text",
    "id": "4E936jWH6y-z"
   }
  },
  {
   "cell_type": "code",
   "execution_count": 30,
   "source": [
    "console.log(\"3 cubed =\", Math.pow(3,3))\n"
   ],
   "outputs": [
    {
     "output_type": "stream",
     "name": "stdout",
     "text": [
      "3 cubed = 27\n"
     ]
    }
   ],
   "metadata": {
    "colab": {},
    "colab_type": "code",
    "id": "IfmIJzCw6y-0"
   }
  },
  {
   "cell_type": "markdown",
   "source": [
    "---"
   ],
   "metadata": {
    "colab_type": "text",
    "id": "2cshrCMI6y-4"
   }
  },
  {
   "cell_type": "markdown",
   "source": [
    "10) Fix the template literal to display a name in the format <em>&lt;last name&gt;, &lt;first name&gt;</em>"
   ],
   "metadata": {
    "colab_type": "text",
    "id": "qDoiSp5n6y-6"
   }
  },
  {
   "cell_type": "code",
   "execution_count": 8,
   "source": [
    "var firstName = \"John\"\n",
    "var lastName = \"Smith\"\n",
    "console.log(`${lastName}, ${firstName}`)"
   ],
   "outputs": [
    {
     "output_type": "stream",
     "name": "stdout",
     "text": [
      "Smith, John\n"
     ]
    }
   ],
   "metadata": {
    "colab": {},
    "colab_type": "code",
    "id": "MzATP0zW6y-7"
   }
  },
  {
   "cell_type": "markdown",
   "source": [
    "---"
   ],
   "metadata": {
    "colab_type": "text",
    "id": "WBPb2GYB6y_A"
   }
  },
  {
   "cell_type": "markdown",
   "source": [
    "11) Display the answer of an integer division and the remainder. There should not be any decimal points displayed."
   ],
   "metadata": {
    "colab_type": "text",
    "id": "-fePfJ-l6y_D"
   }
  },
  {
   "cell_type": "code",
   "execution_count": 7,
   "source": [
    "console.log(\"13 / 5 =\", Math.floor (13/5), \"remainder\", 13%5)"
   ],
   "outputs": [
    {
     "output_type": "stream",
     "name": "stdout",
     "text": [
      "13 / 5 = 2 remainder 3\n"
     ]
    }
   ],
   "metadata": {
    "colab": {},
    "colab_type": "code",
    "id": "pU0SZtVT6y_D"
   }
  },
  {
   "cell_type": "markdown",
   "source": [
    "---"
   ],
   "metadata": {
    "colab_type": "text",
    "id": "Jj5xRTax6y_I"
   }
  },
  {
   "cell_type": "markdown",
   "source": [
    "12) Correct the following calculation to convert 100&deg; Celsius to Fahrenheit."
   ],
   "metadata": {
    "colab_type": "text",
    "id": "mdXkqJSQ6y_K"
   }
  },
  {
   "cell_type": "code",
   "execution_count": 22,
   "source": [
    "var temperature = 100.0\n",
    "console.log(temperature * 9 / 5 + 32)"
   ],
   "outputs": [
    {
     "output_type": "stream",
     "name": "stdout",
     "text": [
      "212\n"
     ]
    }
   ],
   "metadata": {
    "colab": {},
    "colab_type": "code",
    "id": "2lG5lMjV6y_L"
   }
  },
  {
   "cell_type": "markdown",
   "source": [
    "---"
   ],
   "metadata": {
    "colab_type": "text",
    "id": "fPefqaRC6y_Q"
   }
  },
  {
   "cell_type": "markdown",
   "source": [
    "13) Correct the following to calculate and display the expected answer."
   ],
   "metadata": {
    "colab_type": "text",
    "id": "zDfgedeQ6y_R"
   }
  },
  {
   "cell_type": "code",
   "execution_count": 24,
   "source": [
    "console.log(\"1 + 2 =\", 1 + 2)"
   ],
   "outputs": [
    {
     "output_type": "stream",
     "name": "stdout",
     "text": [
      "1 + 2 = 3\n"
     ]
    }
   ],
   "metadata": {
    "colab": {},
    "colab_type": "code",
    "id": "QxYwQGT_6y_S"
   }
  },
  {
   "cell_type": "markdown",
   "source": [
    "---"
   ],
   "metadata": {
    "colab_type": "text",
    "id": "j-9PA9_k6y_V"
   }
  },
  {
   "cell_type": "markdown",
   "source": [
    "14) Correct the following to display the desired output."
   ],
   "metadata": {
    "colab_type": "text",
    "id": "X5D1SkqU6y_W"
   }
  },
  {
   "cell_type": "code",
   "execution_count": 69,
   "source": [
    "var ninetynine = 99\n",
    "console.log(\"Number = \", ninetynine)"
   ],
   "outputs": [
    {
     "output_type": "stream",
     "name": "stdout",
     "text": [
      "Number =  99\n"
     ]
    }
   ],
   "metadata": {
    "colab": {},
    "colab_type": "code",
    "id": "G5712cAE6y_X"
   }
  },
  {
   "cell_type": "markdown",
   "source": [
    "---"
   ],
   "metadata": {
    "colab_type": "text",
    "id": "xt8Nvun06y_c"
   }
  },
  {
   "cell_type": "markdown",
   "source": [
    "15) Use a single print statement to print on multiple lines."
   ],
   "metadata": {
    "colab_type": "text",
    "id": "E6vzuJbj6y_d"
   }
  },
  {
   "cell_type": "code",
   "execution_count": 53,
   "source": [
    "console.log(\"\\n This is \\n on multiple \\n lines\")"
   ],
   "outputs": [
    {
     "output_type": "stream",
     "name": "stdout",
     "text": [
      "\n",
      " This is \n",
      " on multiple \n",
      " lines\n"
     ]
    }
   ],
   "metadata": {
    "colab": {},
    "colab_type": "code",
    "id": "ikSIAVWP6y_f"
   }
  },
  {
   "cell_type": "markdown",
   "source": [
    "---"
   ],
   "metadata": {
    "colab_type": "text",
    "id": "tqq23ggf6y_j"
   }
  },
  {
   "cell_type": "markdown",
   "source": [
    "16) Comment out the first line."
   ],
   "metadata": {
    "colab_type": "text",
    "id": "A5dYC_Im6y_k"
   }
  },
  {
   "cell_type": "code",
   "execution_count": 29,
   "source": [
    "// This is just a comment.\n",
    "console.log(\"You should only see this line.\")"
   ],
   "outputs": [
    {
     "output_type": "stream",
     "name": "stdout",
     "text": [
      "You should only see this line.\n"
     ]
    }
   ],
   "metadata": {
    "colab": {},
    "colab_type": "code",
    "id": "F2c7Ps2K6y_l"
   }
  },
  {
   "cell_type": "markdown",
   "source": [
    "---"
   ],
   "metadata": {
    "colab_type": "text",
    "id": "dIlFC3t36y_p"
   }
  },
  {
   "cell_type": "markdown",
   "source": [
    "17) Make some ASCII art!"
   ],
   "metadata": {
    "colab_type": "text",
    "id": "T-rGL5rf6y_p"
   }
  },
  {
   "cell_type": "code",
   "execution_count": 12,
   "source": [
    "console.log(\".     .\" + \"\\n\" + \" \\\\ O /\" + \"\\n\" + \"  - -\"  + \"\\n\" +\"   |\" +  \"\\n\" +\"   ^\"  + \"\\n\" + \"  / \\\\\" + \"\\n\" + \" -   -\")"
   ],
   "outputs": [
    {
     "output_type": "stream",
     "name": "stdout",
     "text": [
      ".     .\n",
      " \\ O /\n",
      "  - -\n",
      "   |\n",
      "   ^\n",
      "  / \\\n",
      " -   -\n"
     ]
    }
   ],
   "metadata": {
    "colab": {},
    "colab_type": "code",
    "id": "UNfkaCmd6y_q"
   }
  },
  {
   "cell_type": "markdown",
   "source": [
    "---"
   ],
   "metadata": {
    "colab_type": "text",
    "id": "HtT9IyLW6y_t"
   }
  },
  {
   "cell_type": "markdown",
   "source": [
    "18) A couple of problems here...."
   ],
   "metadata": {
    "colab_type": "text",
    "id": "y8t5sNEJ6y_v"
   }
  },
  {
   "cell_type": "code",
   "execution_count": 4,
   "source": [
    "var not = \"not\"\n",
    "console.log(`Something's ${not}` + ` right here.`)"
   ],
   "outputs": [
    {
     "output_type": "stream",
     "name": "stdout",
     "text": [
      "Something's not right here.\n"
     ]
    }
   ],
   "metadata": {
    "colab": {},
    "colab_type": "code",
    "id": "18i2xD8I6y_w"
   }
  },
  {
   "cell_type": "markdown",
   "source": [
    "---"
   ],
   "metadata": {
    "colab_type": "text",
    "id": "F_VZsY4J6y_0"
   }
  },
  {
   "cell_type": "markdown",
   "source": [
    "19) Fix the following bill calculation by adding a 15% gratuity."
   ],
   "metadata": {
    "colab_type": "text",
    "id": "4vX2ih9y6y_0"
   }
  },
  {
   "cell_type": "code",
   "execution_count": 42,
   "source": [
    "var restaurantBill = 10.00\n",
    "restaurantBill = (1.15)*restaurantBill\n",
    "console.log('Total: $' + restaurantBill.toFixed(2))"
   ],
   "outputs": [
    {
     "output_type": "stream",
     "name": "stdout",
     "text": [
      "Total: $11.50\n"
     ]
    }
   ],
   "metadata": {
    "colab": {},
    "colab_type": "code",
    "id": "vE2lw-j66y_1"
   }
  },
  {
   "cell_type": "markdown",
   "source": [
    "---"
   ],
   "metadata": {
    "colab_type": "text",
    "id": "A68QJSUp6y_5"
   }
  },
  {
   "cell_type": "markdown",
   "source": [
    "20) Correct the following inventory count by subtracting the number of items sold from the total."
   ],
   "metadata": {
    "colab_type": "text",
    "id": "xZuKb1vx6y_6"
   }
  },
  {
   "cell_type": "code",
   "execution_count": 43,
   "source": [
    "var totalItems = 100\n",
    "var itemsSold = 42\n",
    "totalItems = 100-42\n",
    "console.log(`Sold: ${itemsSold}, Remaining: ${totalItems}`)"
   ],
   "outputs": [
    {
     "output_type": "stream",
     "name": "stdout",
     "text": [
      "Sold: 42, Remaining: 58\n"
     ]
    }
   ],
   "metadata": {
    "colab": {},
    "colab_type": "code",
    "id": "hj4qG8JN6y_7"
   }
  },
  {
   "cell_type": "markdown",
   "source": [
    "---\n",
    "\n",
    "### Part C - Math (15pts)\n",
    "\n",
    "Create a JavaScript program that calculates the roots of a quadratic equation using the equation, $x = \\large {-b \\pm \\sqrt{b^2 - 4ac} \\over 2a}$.\n",
    "\n",
    "You can assume that the equations used will always have two defined roots. (i.e. ${a \\ne 0}$)\n",
    "\n",
    "The program should allow the user to input the three variables of the formula, a, b, and c, and then output the resulting roots.\n",
    "\n",
    "Example:\n",
    "\n",
    "<div style=\"width:800px\"><img src=\"img/quadratic.gif\" /></div>"
   ],
   "metadata": {}
  },
  {
   "cell_type": "code",
   "execution_count": null,
   "source": [],
   "outputs": [],
   "metadata": {}
  }
 ],
 "metadata": {
  "colab": {
   "collapsed_sections": [],
   "name": "Assignment 1 - Input and Output.ipynb",
   "provenance": [],
   "toc_visible": true,
   "version": "0.3.2"
  },
  "hide_input": false,
  "kernelspec": {
   "display_name": "Javascript (Node.js)",
   "language": "javascript",
   "name": "javascript"
  },
  "language_info": {
   "file_extension": ".js",
   "mimetype": "application/javascript",
   "name": "javascript",
   "version": "16.9.1"
  }
 },
 "nbformat": 4,
 "nbformat_minor": 4
}